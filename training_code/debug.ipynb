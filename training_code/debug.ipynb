{
 "cells": [
  {
   "cell_type": "code",
   "execution_count": 1,
   "metadata": {},
   "outputs": [
    {
     "name": "stdout",
     "output_type": "stream",
     "text": [
      "Total duration of all audio files: 5477873.47199999 seconds\n"
     ]
    }
   ],
   "source": [
    "import os\n",
    "import pandas as pd\n",
    "\n",
    "def calculate_total_duration(csv_dir):\n",
    "    total_duration = 0.0\n",
    "\n",
    "    # 디렉토리의 모든 CSV 파일 처리\n",
    "    for file_name in os.listdir(csv_dir):\n",
    "        if file_name.endswith('.csv'):\n",
    "            file_path = os.path.join(csv_dir, file_name)\n",
    "            \n",
    "            try:\n",
    "                # CSV 파일 읽기\n",
    "                df = pd.read_csv(file_path, delimiter='\\t', header=None, names=['start_sec', 'end_sec', 'label'])\n",
    "                \n",
    "                # 마지막 라인의 end_sec 값 가져오기\n",
    "                last_end_sec = df['end_sec'].iloc[-1]\n",
    "                total_duration += last_end_sec\n",
    "\n",
    "            except Exception as e:\n",
    "                print(f\"Error processing {file_name}: {e}\")\n",
    "\n",
    "    return total_duration\n",
    "\n",
    "# Example Usage\n",
    "csv_directory = \"/data5/TVSM_Dataset/TVSM-pseudo/labels/\"  # CSV 파일들이 저장된 디렉토리 경로\n",
    "total_audio_duration = calculate_total_duration(csv_directory)\n",
    "print(f\"Total duration of all audio files: {total_audio_duration} seconds\")\n"
   ]
  },
  {
   "cell_type": "code",
   "execution_count": 2,
   "metadata": {},
   "outputs": [
    {
     "name": "stdout",
     "output_type": "stream",
     "text": [
      "Total hours:  1521.6315199999972\n"
     ]
    }
   ],
   "source": [
    "print(\"Total hours: \", total_audio_duration/3600)"
   ]
  },
  {
   "cell_type": "code",
   "execution_count": 7,
   "metadata": {},
   "outputs": [
    {
     "data": {
      "text/plain": [
       "(2294,)"
      ]
     },
     "execution_count": 7,
     "metadata": {},
     "output_type": "execute_result"
    }
   ],
   "source": [
    "import numpy as np\n",
    "\n",
    "train = np.load(\"/data5/TVSM_Dataset/TVSM-pseudo/train.npy\")\n",
    "train.shape"
   ]
  },
  {
   "cell_type": "code",
   "execution_count": 9,
   "metadata": {},
   "outputs": [
    {
     "data": {
      "text/plain": [
       "(255,)"
      ]
     },
     "execution_count": 9,
     "metadata": {},
     "output_type": "execute_result"
    }
   ],
   "source": [
    "valid = np.load(\"/data5/TVSM_Dataset/TVSM-pseudo/val.npy\")\n",
    "valid.shape"
   ]
  },
  {
   "cell_type": "code",
   "execution_count": 6,
   "metadata": {},
   "outputs": [
    {
     "name": "stdout",
     "output_type": "stream",
     "text": [
      "2562\n"
     ]
    }
   ],
   "source": [
    "# print file numbers of target dir\n",
    "import os\n",
    "\n",
    "print(len(os.listdir(\"/data5/TVSM_Dataset/TVSM-pseudo/mel_features/\")))"
   ]
  },
  {
   "cell_type": "code",
   "execution_count": null,
   "metadata": {},
   "outputs": [],
   "source": []
  }
 ],
 "metadata": {
  "language_info": {
   "name": "python"
  }
 },
 "nbformat": 4,
 "nbformat_minor": 2
}
